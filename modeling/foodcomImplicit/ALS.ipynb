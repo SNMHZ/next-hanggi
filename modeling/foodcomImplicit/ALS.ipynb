{
 "cells": [
  {
   "cell_type": "code",
   "execution_count": 1,
   "metadata": {},
   "outputs": [],
   "source": [
    "import os\n",
    "\n",
    "import pandas as pd\n",
    "import numpy as np\n",
    "import scipy\n",
    "\n",
    "import random\n",
    "\n",
    "import implicit\n",
    "\n",
    "SEED = 42\n",
    "\n",
    "random.seed(SEED)\n",
    "np.random.seed(SEED)"
   ]
  },
  {
   "cell_type": "code",
   "execution_count": 2,
   "metadata": {},
   "outputs": [],
   "source": [
    "# total\n",
    "data_dir = '../data/interactions_train.csv'\n",
    "train = pd.read_csv(data_dir)"
   ]
  },
  {
   "cell_type": "code",
   "execution_count": 3,
   "metadata": {},
   "outputs": [
    {
     "data": {
      "text/html": [
       "<div>\n",
       "<style scoped>\n",
       "    .dataframe tbody tr th:only-of-type {\n",
       "        vertical-align: middle;\n",
       "    }\n",
       "\n",
       "    .dataframe tbody tr th {\n",
       "        vertical-align: top;\n",
       "    }\n",
       "\n",
       "    .dataframe thead th {\n",
       "        text-align: right;\n",
       "    }\n",
       "</style>\n",
       "<table border=\"1\" class=\"dataframe\">\n",
       "  <thead>\n",
       "    <tr style=\"text-align: right;\">\n",
       "      <th></th>\n",
       "      <th>user_id</th>\n",
       "      <th>recipe_id</th>\n",
       "      <th>date</th>\n",
       "      <th>rating</th>\n",
       "      <th>u</th>\n",
       "      <th>i</th>\n",
       "    </tr>\n",
       "  </thead>\n",
       "  <tbody>\n",
       "    <tr>\n",
       "      <th>0</th>\n",
       "      <td>2046</td>\n",
       "      <td>4684</td>\n",
       "      <td>2000-02-25</td>\n",
       "      <td>5.0</td>\n",
       "      <td>22095</td>\n",
       "      <td>44367</td>\n",
       "    </tr>\n",
       "    <tr>\n",
       "      <th>1</th>\n",
       "      <td>2046</td>\n",
       "      <td>517</td>\n",
       "      <td>2000-02-25</td>\n",
       "      <td>5.0</td>\n",
       "      <td>22095</td>\n",
       "      <td>87844</td>\n",
       "    </tr>\n",
       "    <tr>\n",
       "      <th>2</th>\n",
       "      <td>1773</td>\n",
       "      <td>7435</td>\n",
       "      <td>2000-03-13</td>\n",
       "      <td>5.0</td>\n",
       "      <td>24732</td>\n",
       "      <td>138181</td>\n",
       "    </tr>\n",
       "    <tr>\n",
       "      <th>3</th>\n",
       "      <td>1773</td>\n",
       "      <td>278</td>\n",
       "      <td>2000-03-13</td>\n",
       "      <td>4.0</td>\n",
       "      <td>24732</td>\n",
       "      <td>93054</td>\n",
       "    </tr>\n",
       "    <tr>\n",
       "      <th>4</th>\n",
       "      <td>2046</td>\n",
       "      <td>3431</td>\n",
       "      <td>2000-04-07</td>\n",
       "      <td>5.0</td>\n",
       "      <td>22095</td>\n",
       "      <td>101723</td>\n",
       "    </tr>\n",
       "    <tr>\n",
       "      <th>...</th>\n",
       "      <td>...</td>\n",
       "      <td>...</td>\n",
       "      <td>...</td>\n",
       "      <td>...</td>\n",
       "      <td>...</td>\n",
       "      <td>...</td>\n",
       "    </tr>\n",
       "    <tr>\n",
       "      <th>698896</th>\n",
       "      <td>926904</td>\n",
       "      <td>457971</td>\n",
       "      <td>2018-12-18</td>\n",
       "      <td>5.0</td>\n",
       "      <td>13681</td>\n",
       "      <td>141067</td>\n",
       "    </tr>\n",
       "    <tr>\n",
       "      <th>698897</th>\n",
       "      <td>2002312797</td>\n",
       "      <td>27208</td>\n",
       "      <td>2018-12-18</td>\n",
       "      <td>5.0</td>\n",
       "      <td>14897</td>\n",
       "      <td>99787</td>\n",
       "    </tr>\n",
       "    <tr>\n",
       "      <th>698898</th>\n",
       "      <td>1290903</td>\n",
       "      <td>131607</td>\n",
       "      <td>2018-12-18</td>\n",
       "      <td>5.0</td>\n",
       "      <td>11605</td>\n",
       "      <td>76163</td>\n",
       "    </tr>\n",
       "    <tr>\n",
       "      <th>698899</th>\n",
       "      <td>226867</td>\n",
       "      <td>363072</td>\n",
       "      <td>2018-12-18</td>\n",
       "      <td>5.0</td>\n",
       "      <td>3604</td>\n",
       "      <td>29101</td>\n",
       "    </tr>\n",
       "    <tr>\n",
       "      <th>698900</th>\n",
       "      <td>2000498330</td>\n",
       "      <td>314535</td>\n",
       "      <td>2018-12-19</td>\n",
       "      <td>5.0</td>\n",
       "      <td>2248</td>\n",
       "      <td>21514</td>\n",
       "    </tr>\n",
       "  </tbody>\n",
       "</table>\n",
       "<p>698901 rows × 6 columns</p>\n",
       "</div>"
      ],
      "text/plain": [
       "           user_id  recipe_id        date  rating      u       i\n",
       "0             2046       4684  2000-02-25     5.0  22095   44367\n",
       "1             2046        517  2000-02-25     5.0  22095   87844\n",
       "2             1773       7435  2000-03-13     5.0  24732  138181\n",
       "3             1773        278  2000-03-13     4.0  24732   93054\n",
       "4             2046       3431  2000-04-07     5.0  22095  101723\n",
       "...            ...        ...         ...     ...    ...     ...\n",
       "698896      926904     457971  2018-12-18     5.0  13681  141067\n",
       "698897  2002312797      27208  2018-12-18     5.0  14897   99787\n",
       "698898     1290903     131607  2018-12-18     5.0  11605   76163\n",
       "698899      226867     363072  2018-12-18     5.0   3604   29101\n",
       "698900  2000498330     314535  2018-12-19     5.0   2248   21514\n",
       "\n",
       "[698901 rows x 6 columns]"
      ]
     },
     "execution_count": 3,
     "metadata": {},
     "output_type": "execute_result"
    }
   ],
   "source": [
    "train"
   ]
  },
  {
   "cell_type": "code",
   "execution_count": 4,
   "metadata": {},
   "outputs": [],
   "source": [
    "#init\n",
    "train['view'] = 1\n",
    "train_csr = scipy.sparse.csr_matrix((train['view'], (train['u'], train['i'])), shape=(train['u'].max()+1, train['i'].max()+1))"
   ]
  },
  {
   "cell_type": "code",
   "execution_count": 24,
   "metadata": {},
   "outputs": [
    {
     "data": {
      "application/vnd.jupyter.widget-view+json": {
       "model_id": "f5b3cd0b8be24e01a87af21939e3448a",
       "version_major": 2,
       "version_minor": 0
      },
      "text/plain": [
       "  0%|          | 0/10 [00:00<?, ?it/s]"
      ]
     },
     "metadata": {},
     "output_type": "display_data"
    }
   ],
   "source": [
    "# model\n",
    "als_model = implicit.als.AlternatingLeastSquares(factors=300, regularization=1, iterations=10, random_state=SEED)\n",
    "als_model.fit(train_csr)"
   ]
  },
  {
   "cell_type": "code",
   "execution_count": 8,
   "metadata": {},
   "outputs": [
    {
     "data": {
      "text/plain": [
       "(25076, 300)"
      ]
     },
     "execution_count": 8,
     "metadata": {},
     "output_type": "execute_result"
    }
   ],
   "source": [
    "als_model.user_factors.shape"
   ]
  },
  {
   "cell_type": "code",
   "execution_count": 9,
   "metadata": {},
   "outputs": [
    {
     "data": {
      "text/plain": [
       "(178263, 300)"
      ]
     },
     "execution_count": 9,
     "metadata": {},
     "output_type": "execute_result"
    }
   ],
   "source": [
    "als_model.item_factors.shape"
   ]
  },
  {
   "cell_type": "code",
   "execution_count": 8,
   "metadata": {},
   "outputs": [
    {
     "data": {
      "text/plain": [
       "[0, 10, 20, 30, 40, 50, 60, 70, 80, 90, 100]"
      ]
     },
     "execution_count": 8,
     "metadata": {},
     "output_type": "execute_result"
    }
   ],
   "source": [
    "sample_user_idx = [i for i in range(0, 101, 10)]\n",
    "sample_user_idx"
   ]
  },
  {
   "cell_type": "code",
   "execution_count": 9,
   "metadata": {},
   "outputs": [],
   "source": [
    "sample_users = (als_model.user_factors[sample_user_idx] @ als_model.item_factors.T)"
   ]
  },
  {
   "cell_type": "code",
   "execution_count": 10,
   "metadata": {},
   "outputs": [
    {
     "data": {
      "text/plain": [
       "(array([ 0,  0,  0, ..., 10, 10, 10], dtype=int32),\n",
       " array([     0,   1118,  11190, ..., 177757, 178044, 178109], dtype=int32))"
      ]
     },
     "execution_count": 10,
     "metadata": {},
     "output_type": "execute_result"
    }
   ],
   "source": [
    "train_csr[sample_user_idx,:].nonzero()"
   ]
  },
  {
   "cell_type": "code",
   "execution_count": 11,
   "metadata": {},
   "outputs": [
    {
     "data": {
      "text/plain": [
       "(11, 178263)"
      ]
     },
     "execution_count": 11,
     "metadata": {},
     "output_type": "execute_result"
    }
   ],
   "source": [
    "sample_users.shape"
   ]
  },
  {
   "cell_type": "code",
   "execution_count": 12,
   "metadata": {},
   "outputs": [],
   "source": [
    "sample_users[train_csr[sample_user_idx, :].nonzero()] = float('-inf')"
   ]
  },
  {
   "cell_type": "code",
   "execution_count": 13,
   "metadata": {},
   "outputs": [
    {
     "data": {
      "text/plain": [
       "array([[          -inf,  6.2727980e-07,  8.8870300e-05, ...,\n",
       "         0.0000000e+00, -2.4677329e-05,  5.2282005e-05],\n",
       "       [ 8.9160058e-05,  2.0433852e-05,  3.1671585e-03, ...,\n",
       "         0.0000000e+00,  1.0194835e-03,  2.6934324e-03],\n",
       "       [ 5.1091225e-05,  1.2208320e-05,  1.7772850e-03, ...,\n",
       "         0.0000000e+00, -1.7052602e-04,  1.1868512e-03],\n",
       "       ...,\n",
       "       [ 4.3480828e-05,  1.0187718e-05,  1.4884705e-03, ...,\n",
       "         0.0000000e+00, -5.5623299e-04,  6.4997608e-04],\n",
       "       [ 5.4490151e-06,  1.3035899e-06,  1.8489073e-04, ...,\n",
       "         0.0000000e+00, -9.9302895e-05,  6.9479654e-05],\n",
       "       [ 1.6443431e-04,  3.8376678e-05,  5.8188504e-03, ...,\n",
       "         0.0000000e+00,  1.5193289e-03,  5.0278823e-03]], dtype=float32)"
      ]
     },
     "execution_count": 13,
     "metadata": {},
     "output_type": "execute_result"
    }
   ],
   "source": [
    "sample_users"
   ]
  },
  {
   "cell_type": "code",
   "execution_count": 14,
   "metadata": {},
   "outputs": [],
   "source": [
    "LABEL_CNT = 10"
   ]
  },
  {
   "cell_type": "code",
   "execution_count": 15,
   "metadata": {},
   "outputs": [],
   "source": [
    "result = [ m.argpartition(-LABEL_CNT)[-LABEL_CNT:] for m in sample_users ]"
   ]
  },
  {
   "cell_type": "code",
   "execution_count": 16,
   "metadata": {},
   "outputs": [
    {
     "data": {
      "text/plain": [
       "[array([147180,  52334, 101819, 127080,  37047, 117899, 147374, 135961,\n",
       "        134610,  99787]),\n",
       " array([ 55772,  19297,  15173, 125637, 101819,  52334, 127080, 147374,\n",
       "        134610, 135961]),\n",
       " array([125637, 139822,  52334,  37047, 127080, 101819, 134610, 135961,\n",
       "        117899, 147374]),\n",
       " array([ 52334, 139822,  37047, 135961, 134610, 117899, 101819, 147374,\n",
       "         99787, 127080]),\n",
       " array([ 52334, 139822, 117899, 147374, 134610, 135961,  99787,  37047,\n",
       "        101819, 127080]),\n",
       " array([147180,  52334, 134610,  37047, 127080, 139822,  99787,  19297,\n",
       "        147374, 101819]),\n",
       " array([125637,  52334, 135961, 101819, 117899,  37047, 147180, 127080,\n",
       "         99787, 147374]),\n",
       " array([ 52334, 139822,  37047, 135961, 127080, 117899, 147374,  99787,\n",
       "        101819, 134610]),\n",
       " array([125637,  52334, 127080,  37047, 147180, 135961, 101819,  99787,\n",
       "        134610, 117899]),\n",
       " array([125637,  52334, 147180,  37047, 127080, 101819,  99787, 134610,\n",
       "        147374, 117899]),\n",
       " array([147180,  52334, 139822, 135961, 101819,  99787, 147374, 127080,\n",
       "        117899, 134610])]"
      ]
     },
     "execution_count": 16,
     "metadata": {},
     "output_type": "execute_result"
    }
   ],
   "source": [
    "result"
   ]
  },
  {
   "cell_type": "code",
   "execution_count": 30,
   "metadata": {},
   "outputs": [],
   "source": [
    "test = pd.read_csv('../data/interactions_test.csv')"
   ]
  },
  {
   "cell_type": "code",
   "execution_count": 47,
   "metadata": {},
   "outputs": [
    {
     "data": {
      "text/plain": [
       "(25076, 178263)"
      ]
     },
     "execution_count": 47,
     "metadata": {},
     "output_type": "execute_result"
    }
   ],
   "source": [
    "train_csr.shape"
   ]
  },
  {
   "cell_type": "code",
   "execution_count": 56,
   "metadata": {},
   "outputs": [
    {
     "data": {
      "text/plain": [
       "(25076, 178263)"
      ]
     },
     "execution_count": 56,
     "metadata": {},
     "output_type": "execute_result"
    }
   ],
   "source": [
    "als_model.user_factors.shape[0], als_model.item_factors.shape[0]"
   ]
  },
  {
   "cell_type": "code",
   "execution_count": 11,
   "metadata": {},
   "outputs": [],
   "source": [
    "valid = pd.read_csv('../data/interactions_validation.csv')\n",
    "valid['view'] = 1\n",
    "valid_csr = scipy.sparse.csr_matrix((valid['view'], (valid['u'], valid['i'])), shape=(valid['u'].max()+1, valid['i'].max()+1))"
   ]
  },
  {
   "cell_type": "code",
   "execution_count": 40,
   "metadata": {},
   "outputs": [
    {
     "data": {
      "text/plain": [
       "(25075, 178262)"
      ]
     },
     "execution_count": 40,
     "metadata": {},
     "output_type": "execute_result"
    }
   ],
   "source": [
    "# validation이나 test에서 없는 사용자들은 제외하고 시작한다.\n",
    "train['u'].max(), train['i'].max()"
   ]
  },
  {
   "cell_type": "code",
   "execution_count": 43,
   "metadata": {},
   "outputs": [
    {
     "data": {
      "text/plain": [
       "(25055, 178263)"
      ]
     },
     "execution_count": 43,
     "metadata": {},
     "output_type": "execute_result"
    }
   ],
   "source": [
    "valid['u'].max(), valid['i'].max()"
   ]
  },
  {
   "cell_type": "code",
   "execution_count": 39,
   "metadata": {},
   "outputs": [
    {
     "data": {
      "text/plain": [
       "(25074, 178264)"
      ]
     },
     "execution_count": 39,
     "metadata": {},
     "output_type": "execute_result"
    }
   ],
   "source": [
    "test['u'].max(), test['i'].max()"
   ]
  },
  {
   "cell_type": "code",
   "execution_count": 12,
   "metadata": {},
   "outputs": [],
   "source": [
    "# 없는거 제외하는 코드\n",
    "valid_cut = valid_csr[:als_model.user_factors.shape[0], :als_model.item_factors.shape[0]]"
   ]
  },
  {
   "cell_type": "code",
   "execution_count": 70,
   "metadata": {},
   "outputs": [
    {
     "data": {
      "text/plain": [
       "array([    5,    23,    31, ..., 25047, 25053, 25055], dtype=int32)"
      ]
     },
     "execution_count": 70,
     "metadata": {},
     "output_type": "execute_result"
    }
   ],
   "source": [
    "valid_cut.nonzero()[0]"
   ]
  },
  {
   "cell_type": "code",
   "execution_count": 26,
   "metadata": {},
   "outputs": [
    {
     "data": {
      "text/plain": [
       "array([[ 1.7637564e-02,  2.2146624e-02, -1.7121631e-01, ...,\n",
       "        -1.9433333e-02,  6.9589734e-02,  7.3266730e-02],\n",
       "       [-2.7666526e-02,  1.3935352e-02,  1.2957205e-02, ...,\n",
       "        -9.4583901e-03,  8.7149432e-03, -5.1858877e-03],\n",
       "       [ 4.7143553e-03,  3.1037172e-04,  3.3789487e-03, ...,\n",
       "        -2.3256775e-03,  1.4715833e-03,  1.6747665e-02],\n",
       "       ...,\n",
       "       [-5.0740968e-04,  1.2417804e-03,  7.9542055e-04, ...,\n",
       "         1.0783877e-03,  1.2369329e-05, -7.1399503e-05],\n",
       "       [-3.5564558e-04, -4.6116719e-04,  1.8890153e-04, ...,\n",
       "        -3.5129029e-05,  3.8319596e-04, -5.7090266e-04],\n",
       "       [-3.2710242e-03,  2.3519492e-03, -4.9071452e-05, ...,\n",
       "         2.3722672e-03,  5.6818727e-04, -3.3317972e-03]], dtype=float32)"
      ]
     },
     "execution_count": 26,
     "metadata": {},
     "output_type": "execute_result"
    }
   ],
   "source": [
    "# 유저 벡터는 대충 학습이 된 듯\n",
    "als_model.user_factors[valid_cut.nonzero()[0]]#.shape"
   ]
  },
  {
   "cell_type": "code",
   "execution_count": 61,
   "metadata": {},
   "outputs": [
    {
     "data": {
      "text/plain": [
       "array([[0., 0., 0., ..., 0., 0., 0.],\n",
       "       [0., 0., 0., ..., 0., 0., 0.],\n",
       "       [0., 0., 0., ..., 0., 0., 0.],\n",
       "       ...,\n",
       "       [0., 0., 0., ..., 0., 0., 0.],\n",
       "       [0., 0., 0., ..., 0., 0., 0.],\n",
       "       [0., 0., 0., ..., 0., 0., 0.]], dtype=float32)"
      ]
     },
     "execution_count": 61,
     "metadata": {},
     "output_type": "execute_result"
    }
   ],
   "source": [
    "# 아이템 벡터가 다 0... 왜 학습이 안된거지...??\n",
    "als_model.item_factors[valid_cut.nonzero()[1]]#.shape"
   ]
  },
  {
   "cell_type": "code",
   "execution_count": 63,
   "metadata": {},
   "outputs": [
    {
     "data": {
      "text/plain": [
       "(7022,)"
      ]
     },
     "execution_count": 63,
     "metadata": {},
     "output_type": "execute_result"
    }
   ],
   "source": [
    "#유저 벡터는 일단 전부 다름(학습이 되었음)\n",
    "np.unique(als_model.user_factors[valid_cut.nonzero()[0]].sum(axis=1)).shape"
   ]
  },
  {
   "cell_type": "code",
   "execution_count": 55,
   "metadata": {},
   "outputs": [
    {
     "data": {
      "text/plain": [
       "array([0.], dtype=float32)"
      ]
     },
     "execution_count": 55,
     "metadata": {},
     "output_type": "execute_result"
    }
   ],
   "source": [
    "# 진짜로 다 0이다\n",
    "np.unique(als_model.item_factors[valid_cut.nonzero()[1]].sum(axis=1))"
   ]
  },
  {
   "cell_type": "code",
   "execution_count": 83,
   "metadata": {},
   "outputs": [
    {
     "data": {
      "text/plain": [
       "7022"
      ]
     },
     "execution_count": 83,
     "metadata": {},
     "output_type": "execute_result"
    }
   ],
   "source": [
    "valid_cut.data.size"
   ]
  },
  {
   "cell_type": "code",
   "execution_count": 78,
   "metadata": {},
   "outputs": [
    {
     "data": {
      "text/plain": [
       "7022"
      ]
     },
     "execution_count": 78,
     "metadata": {},
     "output_type": "execute_result"
    }
   ],
   "source": [
    "valid_cut.nonzero()[0].shape[0]"
   ]
  },
  {
   "cell_type": "code",
   "execution_count": 74,
   "metadata": {},
   "outputs": [
    {
     "data": {
      "text/plain": [
       "array([0., 0., 0., ..., 0., 0., 0.], dtype=float32)"
      ]
     },
     "execution_count": 74,
     "metadata": {},
     "output_type": "execute_result"
    }
   ],
   "source": [
    "# 선호도를 계산해 보려 했으나 아이템 벡터가 다 0이라서 안됨.. 원인을 확인해보자\n",
    "valid_prefrence = (als_model.user_factors[valid_cut.nonzero()[0]] * als_model.item_factors[valid_cut.nonzero()[1]]).sum(axis=1)\n",
    "valid_prefrence"
   ]
  },
  {
   "cell_type": "code",
   "execution_count": 71,
   "metadata": {},
   "outputs": [
    {
     "data": {
      "text/plain": [
       "matrix([[1, 1, 1, ..., 1, 1, 1]])"
      ]
     },
     "execution_count": 71,
     "metadata": {},
     "output_type": "execute_result"
    }
   ],
   "source": [
    "valid_cut[valid_cut.nonzero()]"
   ]
  },
  {
   "cell_type": "code",
   "execution_count": 82,
   "metadata": {},
   "outputs": [
    {
     "data": {
      "text/plain": [
       "array([1., 1., 1., ..., 1., 1., 1.])"
      ]
     },
     "execution_count": 82,
     "metadata": {},
     "output_type": "execute_result"
    }
   ],
   "source": [
    "valid_cut.data-valid_prefrence"
   ]
  },
  {
   "cell_type": "code",
   "execution_count": 64,
   "metadata": {},
   "outputs": [
    {
     "data": {
      "text/plain": [
       "(6621, 6621)"
      ]
     },
     "execution_count": 64,
     "metadata": {},
     "output_type": "execute_result"
    }
   ],
   "source": [
    "# valid interaction들이 아이템당 하나씩 밖에 없는 것들이었다...\n",
    "len(set(valid['i'])), len(set(valid['i'])-set(train['i']))"
   ]
  },
  {
   "cell_type": "code",
   "execution_count": 23,
   "metadata": {},
   "outputs": [
    {
     "data": {
      "text/plain": [
       "(25076, 160901)"
      ]
     },
     "execution_count": 23,
     "metadata": {},
     "output_type": "execute_result"
    }
   ],
   "source": [
    "# max에 비하면 상당히 부족한 숫자\n",
    "train['u'].nunique(), train['i'].nunique()"
   ]
  },
  {
   "cell_type": "code",
   "execution_count": 36,
   "metadata": {},
   "outputs": [
    {
     "data": {
      "text/plain": [
       "(698901, 7)"
      ]
     },
     "execution_count": 36,
     "metadata": {},
     "output_type": "execute_result"
    }
   ],
   "source": [
    "train.shape"
   ]
  },
  {
   "cell_type": "code",
   "execution_count": 79,
   "metadata": {},
   "outputs": [
    {
     "data": {
      "text/plain": [
       "(7023, 7)"
      ]
     },
     "execution_count": 79,
     "metadata": {},
     "output_type": "execute_result"
    }
   ],
   "source": [
    "valid.shape"
   ]
  },
  {
   "cell_type": "code",
   "execution_count": 35,
   "metadata": {},
   "outputs": [
    {
     "data": {
      "text/plain": [
       "(12455, 6)"
      ]
     },
     "execution_count": 35,
     "metadata": {},
     "output_type": "execute_result"
    }
   ],
   "source": [
    "test.shape"
   ]
  }
 ],
 "metadata": {
  "interpreter": {
   "hash": "21da55f7eb04340175257e72176fcfbdfebf9030d970a60c3559f3e551800a0e"
  },
  "kernelspec": {
   "display_name": "Python 3.8.5 ('foodcom')",
   "language": "python",
   "name": "python3"
  },
  "language_info": {
   "codemirror_mode": {
    "name": "ipython",
    "version": 3
   },
   "file_extension": ".py",
   "mimetype": "text/x-python",
   "name": "python",
   "nbconvert_exporter": "python",
   "pygments_lexer": "ipython3",
   "version": "3.8.5"
  },
  "orig_nbformat": 4
 },
 "nbformat": 4,
 "nbformat_minor": 2
}
