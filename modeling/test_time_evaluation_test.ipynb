{
 "cells": [
  {
   "cell_type": "markdown",
   "metadata": {},
   "source": [
    "## test-time evaluation test"
   ]
  },
  {
   "cell_type": "markdown",
   "metadata": {},
   "source": [
    "#### basic settings"
   ]
  },
  {
   "cell_type": "code",
   "execution_count": 1,
   "metadata": {},
   "outputs": [],
   "source": [
    "import os\n",
    "\n",
    "import pandas as pd\n",
    "import numpy as np\n",
    "import random\n",
    "from google.cloud import storage\n",
    "\n",
    "\n",
    "import pandas as pd\n",
    "import numpy as np\n",
    "import sqlalchemy\n",
    "import ast\n",
    "from core.config import DATABASE_URL"
   ]
  },
  {
   "cell_type": "code",
   "execution_count": 2,
   "metadata": {},
   "outputs": [],
   "source": [
    "os.environ[\"GOOGLE_APPLICATION_CREDENTIALS\"]=\"./core/storage.json\"\n",
    "storage_client = storage.Client()\n",
    "bucket = storage_client.bucket('foodcom_als_model')"
   ]
  },
  {
   "cell_type": "code",
   "execution_count": 3,
   "metadata": {},
   "outputs": [
    {
     "name": "stdout",
     "output_type": "stream",
     "text": [
      "2022-06-09 02:13:32,264 INFO sqlalchemy.engine.Engine select pg_catalog.version()\n",
      "2022-06-09 02:13:32,265 INFO sqlalchemy.engine.Engine [raw sql] {}\n",
      "2022-06-09 02:13:32,269 INFO sqlalchemy.engine.Engine select current_schema()\n",
      "2022-06-09 02:13:32,269 INFO sqlalchemy.engine.Engine [raw sql] {}\n",
      "2022-06-09 02:13:32,274 INFO sqlalchemy.engine.Engine show standard_conforming_strings\n",
      "2022-06-09 02:13:32,274 INFO sqlalchemy.engine.Engine [raw sql] {}\n",
      "2022-06-09 02:13:32,279 INFO sqlalchemy.engine.Engine select relname from pg_class c join pg_namespace n on n.oid=c.relnamespace where pg_catalog.pg_table_is_visible(c.oid) and relname=%(name)s\n",
      "2022-06-09 02:13:32,279 INFO sqlalchemy.engine.Engine [generated in 0.00063s] {'name': 'select * from public.meta_data'}\n",
      "2022-06-09 02:13:32,286 INFO sqlalchemy.engine.Engine select * from public.meta_data\n",
      "2022-06-09 02:13:32,286 INFO sqlalchemy.engine.Engine [raw sql] {}\n"
     ]
    }
   ],
   "source": [
    "def get_db_engine():\n",
    "    '''Returns a connection and a metadata object'''\n",
    "    engine = sqlalchemy.create_engine(DATABASE_URL, echo=True)\n",
    "    #meta = sqlalchemy.MetaData(bind=engine, reflect=True)\n",
    "    return engine  # , meta\n",
    "\n",
    "def update_sql(df:pd.DataFrame) -> None:\n",
    "    df.to_sql(name='meta_data',\n",
    "                con=engine,\n",
    "                schema='public',\n",
    "                if_exists='replace',\n",
    "                index=False,\n",
    "                dtype={\n",
    "                    'user_count': sqlalchemy.types.INTEGER(),\n",
    "                    'recipe_count': sqlalchemy.types.INTEGER(),\n",
    "                    'interaction_count': sqlalchemy.types.INTEGER(),\n",
    "                    'best_model': sqlalchemy.types.Text(),\n",
    "                    'batch_tag': sqlalchemy.types.INTEGER(),\n",
    "                    'inference_traffic': sqlalchemy.types.Text()\n",
    "                    }\n",
    "                )\n",
    "    \n",
    "engine = get_db_engine()\n",
    "meta_data = pd.read_sql(f\"select * from public.meta_data\", engine)"
   ]
  },
  {
   "cell_type": "code",
   "execution_count": 4,
   "metadata": {},
   "outputs": [
    {
     "name": "stdout",
     "output_type": "stream",
     "text": [
      "2022-06-09 02:13:32,386 INFO sqlalchemy.engine.Engine select relname from pg_class c join pg_namespace n on n.oid=c.relnamespace where pg_catalog.pg_table_is_visible(c.oid) and relname=%(name)s\n",
      "2022-06-09 02:13:32,387 INFO sqlalchemy.engine.Engine [cached since 0.1079s ago] {'name': 'select * from public.meta_data'}\n",
      "2022-06-09 02:13:32,393 INFO sqlalchemy.engine.Engine select * from public.meta_data\n",
      "2022-06-09 02:13:32,394 INFO sqlalchemy.engine.Engine [raw sql] {}\n"
     ]
    }
   ],
   "source": [
    "temp = pd.read_sql(f\"select * from public.meta_data\", engine)\n",
    "#update_sql(temp)"
   ]
  },
  {
   "cell_type": "code",
   "execution_count": 5,
   "metadata": {},
   "outputs": [
    {
     "data": {
      "text/html": [
       "<div>\n",
       "<style scoped>\n",
       "    .dataframe tbody tr th:only-of-type {\n",
       "        vertical-align: middle;\n",
       "    }\n",
       "\n",
       "    .dataframe tbody tr th {\n",
       "        vertical-align: top;\n",
       "    }\n",
       "\n",
       "    .dataframe thead th {\n",
       "        text-align: right;\n",
       "    }\n",
       "</style>\n",
       "<table border=\"1\" class=\"dataframe\">\n",
       "  <thead>\n",
       "    <tr style=\"text-align: right;\">\n",
       "      <th></th>\n",
       "      <th>user_count</th>\n",
       "      <th>recipe_count</th>\n",
       "      <th>interaction_count</th>\n",
       "      <th>best_model</th>\n",
       "      <th>batch_tag</th>\n",
       "      <th>inference_traffic</th>\n",
       "    </tr>\n",
       "  </thead>\n",
       "  <tbody>\n",
       "    <tr>\n",
       "      <th>0</th>\n",
       "      <td>9726</td>\n",
       "      <td>147302</td>\n",
       "      <td>580526</td>\n",
       "      <td>['MultiDAE', 'MultiVAE', 'RecVAE']</td>\n",
       "      <td>2</td>\n",
       "      <td>[10.1, 8.7, 8.5, 27.3, 27.3, 27.3]</td>\n",
       "    </tr>\n",
       "  </tbody>\n",
       "</table>\n",
       "</div>"
      ],
      "text/plain": [
       "   user_count  recipe_count  interaction_count  \\\n",
       "0        9726        147302             580526   \n",
       "\n",
       "                           best_model  batch_tag  \\\n",
       "0  ['MultiDAE', 'MultiVAE', 'RecVAE']          2   \n",
       "\n",
       "                    inference_traffic  \n",
       "0  [10.1, 8.7, 8.5, 27.3, 27.3, 27.3]  "
      ]
     },
     "execution_count": 5,
     "metadata": {},
     "output_type": "execute_result"
    }
   ],
   "source": [
    "temp"
   ]
  },
  {
   "cell_type": "markdown",
   "metadata": {},
   "source": [
    "#### preference matrix downloader (by user)"
   ]
  },
  {
   "cell_type": "code",
   "execution_count": 6,
   "metadata": {},
   "outputs": [],
   "source": [
    "from io import BytesIO\n",
    "def download_preference_matrix(meta_data:pd.DataFrame, user_id:int) -> list:\n",
    "    '''\n",
    "    아이템 id가 들어있는 matrix를 반환합니다.\n",
    "    (아이템을 뽑기 쉽게 하기 위해 제일 뒤에 있는 아이템의 점수가 가장 높게 reverse)\n",
    "    '''\n",
    "    model_preferences = list()\n",
    "    model_list = ast.literal_eval(meta_data['best_model'].item())\n",
    "    for model in model_list:\n",
    "        downloaded_model = bucket.blob(f'{model}.npy').download_as_string()\n",
    "        downloaded_model = BytesIO(downloaded_model)\n",
    "        preference_matrix = np.load(downloaded_model, allow_pickle=True).item()[user_id]\n",
    "        model_preferences.append(list(reversed(preference_matrix)))\n",
    "    \n",
    "    return model_preferences\n"
   ]
  },
  {
   "cell_type": "code",
   "execution_count": 7,
   "metadata": {},
   "outputs": [
    {
     "data": {
      "text/plain": [
       "(100, 100, 100)"
      ]
     },
     "execution_count": 7,
     "metadata": {},
     "output_type": "execute_result"
    }
   ],
   "source": [
    "preference_matrix = download_preference_matrix(meta_data, user_id=777)\n",
    "a, b, c = preference_matrix\n",
    "len(a), len(b), len(c)"
   ]
  },
  {
   "cell_type": "markdown",
   "metadata": {},
   "source": [
    "#### recommend top 10 recipes"
   ]
  },
  {
   "cell_type": "code",
   "execution_count": 8,
   "metadata": {},
   "outputs": [
    {
     "data": {
      "text/html": [
       "<div>\n",
       "<style scoped>\n",
       "    .dataframe tbody tr th:only-of-type {\n",
       "        vertical-align: middle;\n",
       "    }\n",
       "\n",
       "    .dataframe tbody tr th {\n",
       "        vertical-align: top;\n",
       "    }\n",
       "\n",
       "    .dataframe thead th {\n",
       "        text-align: right;\n",
       "    }\n",
       "</style>\n",
       "<table border=\"1\" class=\"dataframe\">\n",
       "  <thead>\n",
       "    <tr style=\"text-align: right;\">\n",
       "      <th></th>\n",
       "      <th>user_count</th>\n",
       "      <th>recipe_count</th>\n",
       "      <th>interaction_count</th>\n",
       "      <th>best_model</th>\n",
       "      <th>batch_tag</th>\n",
       "      <th>inference_traffic</th>\n",
       "    </tr>\n",
       "  </thead>\n",
       "  <tbody>\n",
       "    <tr>\n",
       "      <th>0</th>\n",
       "      <td>9726</td>\n",
       "      <td>147302</td>\n",
       "      <td>580526</td>\n",
       "      <td>['MultiDAE', 'MultiVAE', 'RecVAE']</td>\n",
       "      <td>2</td>\n",
       "      <td>[10.1, 8.7, 8.5, 27.3, 27.3, 27.3]</td>\n",
       "    </tr>\n",
       "  </tbody>\n",
       "</table>\n",
       "</div>"
      ],
      "text/plain": [
       "   user_count  recipe_count  interaction_count  \\\n",
       "0        9726        147302             580526   \n",
       "\n",
       "                           best_model  batch_tag  \\\n",
       "0  ['MultiDAE', 'MultiVAE', 'RecVAE']          2   \n",
       "\n",
       "                    inference_traffic  \n",
       "0  [10.1, 8.7, 8.5, 27.3, 27.3, 27.3]  "
      ]
     },
     "execution_count": 8,
     "metadata": {},
     "output_type": "execute_result"
    }
   ],
   "source": [
    "meta_data"
   ]
  },
  {
   "cell_type": "code",
   "execution_count": 9,
   "metadata": {},
   "outputs": [],
   "source": [
    "def recommend_top_k(meta_data:pd.DataFrame, preference_matrix:list, top_k:int = 10) -> list:\n",
    "    recommended_list = list()\n",
    "    recommender_list = list()\n",
    "    a1, a2, a3, b1, b2, b3 = ast.literal_eval(meta_data['inference_traffic'].item())\n",
    "    while len(recommended_list) <= 10:\n",
    "        sampling_list = [np.random.beta(a1, b1), np.random.beta(a2, b2), np.random.beta(a3, b3)]\n",
    "        best_model = np.argsort(sampling_list)[-1]\n",
    "        while True:\n",
    "            rec_item = preference_matrix[best_model].pop()\n",
    "            if rec_item not in recommended_list:\n",
    "                recommended_list.append(rec_item)\n",
    "                recommender_list.append(best_model)\n",
    "                break\n",
    "    return recommended_list, recommender_list\n",
    "    "
   ]
  },
  {
   "cell_type": "code",
   "execution_count": 10,
   "metadata": {},
   "outputs": [
    {
     "name": "stdout",
     "output_type": "stream",
     "text": [
      "[1828, 5841, 19404, 30387, 4081, 641, 3685, 50761, 12822, 5838, 12311]\n",
      "[0, 2, 1, 1, 0, 0, 1, 0, 2, 1, 0]\n"
     ]
    }
   ],
   "source": [
    "recommended_list, recommender_list = recommend_top_k(meta_data, preference_matrix, top_k = 10)\n",
    "print(recommended_list)\n",
    "print(recommender_list)"
   ]
  }
 ],
 "metadata": {
  "interpreter": {
   "hash": "cc41eef93257a211c020d9d5ba82739482434f85945d53b242febb332259b0e1"
  },
  "kernelspec": {
   "display_name": "Python 3.8.13 ('last-project')",
   "language": "python",
   "name": "python3"
  },
  "language_info": {
   "codemirror_mode": {
    "name": "ipython",
    "version": 3
   },
   "file_extension": ".py",
   "mimetype": "text/x-python",
   "name": "python",
   "nbconvert_exporter": "python",
   "pygments_lexer": "ipython3",
   "version": "3.8.13"
  },
  "orig_nbformat": 4
 },
 "nbformat": 4,
 "nbformat_minor": 2
}
